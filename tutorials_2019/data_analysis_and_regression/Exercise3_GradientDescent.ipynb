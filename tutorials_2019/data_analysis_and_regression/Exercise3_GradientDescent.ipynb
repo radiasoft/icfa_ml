{
 "cells": [
  {
   "cell_type": "code",
   "execution_count": 1,
   "metadata": {},
   "outputs": [],
   "source": [
    "## Load utilities\n",
    "# Numpy: for scientific computing and arrays\n",
    "import numpy as np\n",
    "# Matplotlib: for plotting\n",
    "import matplotlib.pyplot as plt\n",
    "# Seaborn: high level plots\n",
    "import seaborn as sns\n",
    "# Pandas: data analysis package\n",
    "import pandas as pd"
   ]
  },
  {
   "cell_type": "code",
   "execution_count": 2,
   "metadata": {},
   "outputs": [],
   "source": [
    "from sklearn.linear_model import SGDRegressor"
   ]
  },
  {
   "cell_type": "code",
   "execution_count": 3,
   "metadata": {},
   "outputs": [],
   "source": [
    "# Load data\n",
    "filename = \"ANN_7ksliced.pk\"\n",
    "data = np.load(filename)"
   ]
  },
  {
   "cell_type": "code",
   "execution_count": 4,
   "metadata": {},
   "outputs": [],
   "source": [
    "dname  = np.array(data[0]['dvarNames']) \n",
    "oname  = np.array(data[0]['objNames'])\n",
    "names  = data[0]['dvarNames'] + data[0]['objNames'] # all names\n",
    "dval   = np.asarray(data[1]['dvarValues'],dtype=np.float64) # convert string to float\n",
    "oval   = np.asarray(data[1]['objValues'],dtype=np.float64)  \n",
    "values = np.concatenate((dval,oval),axis=1) # concatenate"
   ]
  },
  {
   "cell_type": "code",
   "execution_count": 5,
   "metadata": {},
   "outputs": [],
   "source": [
    "emittX = oval[:,3]"
   ]
  },
  {
   "cell_type": "code",
   "execution_count": 6,
   "metadata": {},
   "outputs": [],
   "source": [
    "# Normalisation array: data between [0,1]\n",
    "def norm(x):\n",
    "    return (x-min(x))/(max(x)-min(x))\n",
    "# Unnormalise\n",
    "def unnorm(x, minx, maxx):\n",
    "    return (x*(maxx-minx) + minx)"
   ]
  },
  {
   "cell_type": "code",
   "execution_count": null,
   "metadata": {},
   "outputs": [],
   "source": []
  },
  {
   "cell_type": "code",
   "execution_count": null,
   "metadata": {},
   "outputs": [],
   "source": []
  }
 ],
 "metadata": {
  "kernelspec": {
   "display_name": "Python 3",
   "language": "python",
   "name": "py3"
  },
  "language_info": {
   "codemirror_mode": {
    "name": "ipython",
    "version": 3
   },
   "file_extension": ".py",
   "mimetype": "text/x-python",
   "name": "python",
   "nbconvert_exporter": "python",
   "pygments_lexer": "ipython3",
   "version": "3.6.6"
  }
 },
 "nbformat": 4,
 "nbformat_minor": 2
}
