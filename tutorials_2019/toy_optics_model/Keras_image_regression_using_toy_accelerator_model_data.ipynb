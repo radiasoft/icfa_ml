{
 "cells": [
  {
   "cell_type": "markdown",
   "metadata": {
    "colab_type": "text",
    "id": "ps3YvWT1Y1AU"
   },
   "source": [
    "# Toy Model image regression exercise\n",
    "\n",
    "This is an extension of the previous toy model, but we willl try to predict the phase of the bunch given only image data.\n",
    "\n"
   ]
  },
  {
   "cell_type": "markdown",
   "metadata": {
    "colab_type": "text",
    "id": "taKyvj3EDKwr"
   },
   "source": [
    "# Toy Accelerator Model (Copy)\n",
    "\n",
    "Simple longitudinal phase space example, mapping particles through a linac and then an arc. \n",
    "\n",
    "Produces longitudinal phase space screens for various linac phases. \n"
   ]
  },
  {
   "cell_type": "code",
   "execution_count": 2,
   "metadata": {
    "colab": {},
    "colab_type": "code",
    "id": "9ogpJ6t0dded"
   },
   "outputs": [],
   "source": [
    "import numpy as np\n",
    "\n",
    "#matplotlib graphs will be included in your notebook, next to the code:\n",
    "%matplotlib inline \n",
    "\n",
    "import matplotlib.pyplot as plt\n",
    "from matplotlib.colors import LogNorm\n",
    "from math import cos, pi, sqrt\n",
    "\n",
    "c_light = 299792458.\n"
   ]
  },
  {
   "cell_type": "markdown",
   "metadata": {
    "colab_type": "text",
    "id": "IONWqAUywIh6"
   },
   "source": [
    "Make a bunch in $(z, \\delta)$ space at reference energy $E_0$, where $z=-ct$ and the relative energy spread $\\delta = (E-E_0)/E_0$."
   ]
  },
  {
   "cell_type": "code",
   "execution_count": 3,
   "metadata": {
    "colab": {
     "base_uri": "https://localhost:8080/",
     "height": 136
    },
    "colab_type": "code",
    "executionInfo": {
     "elapsed": 1014,
     "status": "ok",
     "timestamp": 1536102196692,
     "user": {
      "displayName": "Christopher E. Mayes",
      "photoUrl": "https://lh3.googleusercontent.com/a/default-user=s128",
      "userId": "106142582782898777864"
     },
     "user_tz": 420
    },
    "id": "tT-04azxd9Q5",
    "outputId": "70a591bb-f8a3-45ce-98aa-9d53bf9f5ee2"
   },
   "outputs": [
    {
     "data": {
      "text/plain": [
       "array([[ 4.42513556e-04, -8.26250585e-05],\n",
       "       [-5.59616146e-04,  8.86435628e-05],\n",
       "       [ 1.61279199e-03, -1.04912634e-04],\n",
       "       ...,\n",
       "       [ 1.17054431e-04, -1.21346262e-05],\n",
       "       [-5.95743347e-06, -1.00951364e-04],\n",
       "       [ 7.98230921e-05, -2.88401144e-05]])"
      ]
     },
     "execution_count": 3,
     "metadata": {},
     "output_type": "execute_result"
    }
   ],
   "source": [
    "# Simple bunch in longitudinal phase space\n",
    "\n",
    "# z = - c t\n",
    "sigma_z = 0.001; # units: meters\n",
    "# delta = (E-E0)/ E0 relative energy spread\n",
    "sigma_delta= .0001; # units: 1\n",
    "\n",
    "nparticles = 1000;\n",
    "\n",
    "# Gussian Distribution initial bunch\n",
    "dist_mean = [0,0]\n",
    "dist_covariance =  [[sigma_z**2, 0], [0, sigma_delta**2]]\n",
    "\n",
    "def init_bunch(n_particles):\n",
    "  return np.random.multivariate_normal(dist_mean,dist_covariance, n_particles);\n",
    "bunch0 = init_bunch(nparticles)\n",
    "\n",
    "\n",
    "\n",
    "# Bunch data\n",
    "bunch0"
   ]
  },
  {
   "cell_type": "code",
   "execution_count": 4,
   "metadata": {
    "colab": {
     "base_uri": "https://localhost:8080/",
     "height": 119
    },
    "colab_type": "code",
    "executionInfo": {
     "elapsed": 808,
     "status": "ok",
     "timestamp": 1536102197642,
     "user": {
      "displayName": "Christopher E. Mayes",
      "photoUrl": "https://lh3.googleusercontent.com/a/default-user=s128",
      "userId": "106142582782898777864"
     },
     "user_tz": 420
    },
    "id": "g_4n94zxzB0R",
    "outputId": "85f0d092-f7ec-4538-c2d6-5be14a946a0e"
   },
   "outputs": [
    {
     "data": {
      "text/plain": [
       "{'z_min': -0.002955447896417292,\n",
       " 'delta_min': -0.0003022103104597362,\n",
       " 'z_max': 0.002783730402054074,\n",
       " 'delta_max': 0.00044824569880651043,\n",
       " 'sigma_z': 0.0010002540733200684,\n",
       " 'sigma_delta': 9.980589007279822e-05}"
      ]
     },
     "execution_count": 4,
     "metadata": {},
     "output_type": "execute_result"
    }
   ],
   "source": [
    "# Some statistics\n",
    "def bunch_stats(bunch):\n",
    "  stats = {}\n",
    "  stats['z_min'], stats['delta_min'] = np.amin(bunch, 0)\n",
    "  stats['z_max'], stats['delta_max'] = np.amax(bunch, 0)\n",
    "  stats['sigma_z'], stats['sigma_delta'] = list(map(sqrt, np.var(bunch, 0)))\n",
    "  \n",
    "  return stats\n",
    "\n",
    "bunch_stats(bunch0)"
   ]
  },
  {
   "cell_type": "code",
   "execution_count": 5,
   "metadata": {
    "colab": {
     "base_uri": "https://localhost:8080/",
     "height": 265
    },
    "colab_type": "code",
    "executionInfo": {
     "elapsed": 951,
     "status": "ok",
     "timestamp": 1536102198716,
     "user": {
      "displayName": "Christopher E. Mayes",
      "photoUrl": "https://lh3.googleusercontent.com/a/default-user=s128",
      "userId": "106142582782898777864"
     },
     "user_tz": 420
    },
    "id": "bCA4irCcgTEh",
    "outputId": "50b28c9e-1624-46a1-d148-36cee0ee20eb"
   },
   "outputs": [
    {
     "data": {
      "image/png": "[encoded data removed]",
      "text/plain": [
       "<Figure size 432x288 with 1 Axes>"
      ]
     },
     "metadata": {
      "needs_background": "light"
     },
     "output_type": "display_data"
    }
   ],
   "source": [
    "# Simple plot. \n",
    "plt.scatter(*bunch0.T)\n",
    "plt.show()"
   ]
  },
  {
   "cell_type": "code",
   "execution_count": 6,
   "metadata": {
    "colab": {
     "base_uri": "https://localhost:8080/",
     "height": 294
    },
    "colab_type": "code",
    "executionInfo": {
     "elapsed": 1170,
     "status": "ok",
     "timestamp": 1536102200036,
     "user": {
      "displayName": "Christopher E. Mayes",
      "photoUrl": "https://lh3.googleusercontent.com/a/default-user=s128",
      "userId": "106142582782898777864"
     },
     "user_tz": 420
    },
    "id": "JrlUv5_g2gcW",
    "outputId": "bf9b79d4-ea1b-455f-a2d7-38c5aaab539b"
   },
   "outputs": [
    {
     "data": {
      "image/png": "[encoded data removed]",
      "text/plain": [
       "<Figure size 432x288 with 1 Axes>"
      ]
     },
     "metadata": {
      "needs_background": "light"
     },
     "output_type": "display_data"
    }
   ],
   "source": [
    "# Better plot\n",
    "\n",
    "def plot_bunch(bunch, title=None, range=[(-6,6), (-6,6)]):\n",
    "  x,y =bunch.T\n",
    "  # colab limitations:\n",
    "  #   This looks nicer on a local machine\n",
    "  #   tex doesn't work: plt.rc('text', usetex=True)\n",
    "  #   plt.xlabel(r'\\textbf{time} (s)')\n",
    "  \n",
    "  fig = plt.figure()\n",
    "  ax = fig.add_subplot(1, 1, 1)\n",
    "  ax.set_xlabel('z (mm) ')\n",
    "  ax.set_ylabel('delta (1e-4) ')\n",
    "  if title: ax.set_title(title)\n",
    "    \n",
    "  ax.hist2d(1e3*x, 1e4*y, bins=40, norm=LogNorm(), range=range );\n",
    "  #plt.colorbar()  \n",
    " \n",
    "  return fig\n",
    "\n",
    "  \n",
    "plot_bunch(bunch0, title='my title', range=[(-10,6), (-6,6)]);"
   ]
  },
  {
   "cell_type": "markdown",
   "metadata": {
    "colab_type": "text",
    "id": "9XBHjL8hnYL4"
   },
   "source": [
    "Simple Cavity map. Acceleration from energy $E_0$ to $E_1$ through a cavity with phase $\\phi$, frequency $f$, and $k=2\\pi f/c$.\n",
    "\n",
    "$z \\rightarrow z \\\\ \n",
    "\\delta \\rightarrow \\delta \\frac{E_0}{E_1} + (1- \\frac{E_0}{E_1})\\frac{\\cos(kz +\\phi)}{\\cos(\\phi)}$"
   ]
  },
  {
   "cell_type": "code",
   "execution_count": 7,
   "metadata": {
    "colab": {
     "base_uri": "https://localhost:8080/",
     "height": 294
    },
    "colab_type": "code",
    "executionInfo": {
     "elapsed": 840,
     "status": "ok",
     "timestamp": 1536102201007,
     "user": {
      "displayName": "Christopher E. Mayes",
      "photoUrl": "https://lh3.googleusercontent.com/a/default-user=s128",
      "userId": "106142582782898777864"
     },
     "user_tz": 420
    },
    "id": "sRE2CSHOoxXb",
    "outputId": "e6fb95cc-8349-4be2-ab02-0f1a26c1818c"
   },
   "outputs": [
    {
     "data": {
      "image/png": "[encoded data removed]",
      "text/plain": [
       "<Figure size 432x288 with 1 Axes>"
      ]
     },
     "metadata": {
      "needs_background": "light"
     },
     "output_type": "display_data"
    }
   ],
   "source": [
    "# Accelerate through a linac\n",
    "\n",
    "def linac(bunch, energy0=100e6, energy1=1000e6, frf=1.3e9, phi=2*pi*(0/360)):\n",
    "  \"\"\"\n",
    "  Simple linac (cavity) map. Accelerates from energy0 to energy1, with rf frequency frf (Hz) and phase phi (rad). \n",
    "  \"\"\"\n",
    "  k = 2*pi*frf/c_light\n",
    "  return np.array([ (z, (1-energy0/energy1)*(cos(k*z+phi)/cos(phi) -1)+ energy0/energy1 *delta) for (z,delta) in bunch])\n",
    "  \n",
    "\n",
    "bunch1 = linac(bunch0, phi=2*pi*(5/360))\n",
    "plot_bunch(bunch1, title = '5 deg phase ', range=[(-10,10), (-200,200)]);"
   ]
  },
  {
   "cell_type": "markdown",
   "metadata": {
    "colab_type": "text",
    "id": "dBbavfD_oDOn"
   },
   "source": [
    "Simple longitudinal arc map, parameterized by $r_{56}$ and $t_{566}$:\n",
    "\n",
    "$z \\rightarrow z + r_{56}\\,\\delta + t_{566}\\,\\delta^2 \\\\ \n",
    "\\delta \\rightarrow \\delta$"
   ]
  },
  {
   "cell_type": "code",
   "execution_count": 8,
   "metadata": {
    "colab": {
     "base_uri": "https://localhost:8080/",
     "height": 294
    },
    "colab_type": "code",
    "executionInfo": {
     "elapsed": 872,
     "status": "ok",
     "timestamp": 1536102206988,
     "user": {
      "displayName": "Christopher E. Mayes",
      "photoUrl": "https://lh3.googleusercontent.com/a/default-user=s128",
      "userId": "106142582782898777864"
     },
     "user_tz": 420
    },
    "id": "xowXF_pBsSRu",
    "outputId": "a93c3250-9589-478c-dd8e-f387fab28ea9"
   },
   "outputs": [
    {
     "data": {
      "image/png": "[encoded data removed]",
      "text/plain": [
       "<Figure size 432x288 with 1 Axes>"
      ]
     },
     "metadata": {
      "needs_background": "light"
     },
     "output_type": "display_data"
    }
   ],
   "source": [
    "# Transport through an arc\n",
    "\n",
    "def arc(bunch, r56=0, t566=0):\n",
    "  \"\"\"\n",
    "  Simple arc with transport terms r56 and t566\n",
    "  z -> z + r56*delta + t566*delta**2\n",
    "  delta -> delta\n",
    "  \"\"\"\n",
    "  return np.array([(z + r56*delta + t566*delta**2, delta) for (z, delta) in bunch])\n",
    " \n",
    "bunch2 = arc(bunch1, r56 = 20e-2, t566 = 0)\n",
    "\n",
    "plot_bunch(bunch2, title = 'arc with r56 = 20 cm, t566=0 ', range=[(-10,10), (-200,200)]);"
   ]
  },
  {
   "cell_type": "code",
   "execution_count": 9,
   "metadata": {
    "colab": {
     "base_uri": "https://localhost:8080/",
     "height": 294
    },
    "colab_type": "code",
    "executionInfo": {
     "elapsed": 854,
     "status": "ok",
     "timestamp": 1536102210168,
     "user": {
      "displayName": "Christopher E. Mayes",
      "photoUrl": "https://lh3.googleusercontent.com/a/default-user=s128",
      "userId": "106142582782898777864"
     },
     "user_tz": 420
    },
    "id": "nu4VoBtnx1BT",
    "outputId": "cc0ac9c2-ed54-4a18-8803-5c644de2c865"
   },
   "outputs": [
    {
     "data": {
      "image/png": "[encoded data removed]",
      "text/plain": [
       "<Figure size 432x288 with 1 Axes>"
      ]
     },
     "metadata": {
      "needs_background": "light"
     },
     "output_type": "display_data"
    }
   ],
   "source": [
    "\n",
    "def my_accelerator(phase_deg):\n",
    "  bunch1 = linac(bunch0, phi=2*pi*(phase_deg/360))\n",
    "  bunch2 = arc(bunch1, r56 = 20e-2, t566 = 1)\n",
    "  \n",
    "  stats = bunch_stats(bunch2)\n",
    "  sigz = '{:f}'.format(1000*stats['sigma_z'])\n",
    "  \n",
    "  title = 'Linac phase: '+str(phase_deg)+' deg, sigma_z (mm) = '+sigz\n",
    "  fig = plot_bunch(bunch2, title=title, range=[(-10,10), (-200,200)])\n",
    "  \n",
    "  return fig\n",
    "  \n",
    "  #plt.ylabel('counts')\n",
    "  #plt.hist(1000*bunch2.T[0], bins = 100, range=(-5,5))\n",
    "my_accelerator(3);"
   ]
  },
  {
   "cell_type": "markdown",
   "metadata": {
    "colab_type": "text",
    "id": "qhSyEotIEDDl"
   },
   "source": [
    "# Make data similiar to MNIST format\n",
    "\n"
   ]
  },
  {
   "cell_type": "code",
   "execution_count": 10,
   "metadata": {
    "colab": {
     "base_uri": "https://localhost:8080/",
     "height": 364
    },
    "colab_type": "code",
    "executionInfo": {
     "elapsed": 278,
     "status": "ok",
     "timestamp": 1519774954199,
     "user": {
      "displayName": "Daniel Bowring",
      "photoUrl": "//lh4.googleusercontent.com/-KOZA489PPGw/AAAAAAAAAAI/AAAAAAAAA6M/z5T5K3HG8Qk/s50-c-k-no/photo.jpg",
      "userId": "117316732450661309451"
     },
     "user_tz": 0
    },
    "id": "fnZFfOspDs8S",
    "outputId": "6460c513-62d0-4baf-e319-4cff479eac35"
   },
   "outputs": [
    {
     "data": {
      "text/plain": [
       "array([[0.0000e+00, 9.8000e-05, 0.0000e+00, 0.0000e+00, 0.0000e+00,\n",
       "        0.0000e+00, 0.0000e+00, 0.0000e+00, 0.0000e+00, 0.0000e+00],\n",
       "       [0.0000e+00, 2.0580e-03, 0.0000e+00, 0.0000e+00, 0.0000e+00,\n",
       "        0.0000e+00, 0.0000e+00, 0.0000e+00, 0.0000e+00, 0.0000e+00],\n",
       "       [0.0000e+00, 1.0780e-03, 1.1074e-02, 0.0000e+00, 0.0000e+00,\n",
       "        0.0000e+00, 0.0000e+00, 0.0000e+00, 0.0000e+00, 0.0000e+00],\n",
       "       [0.0000e+00, 0.0000e+00, 8.8200e-03, 2.7146e-02, 9.8000e-05,\n",
       "        0.0000e+00, 0.0000e+00, 0.0000e+00, 0.0000e+00, 0.0000e+00],\n",
       "       [0.0000e+00, 0.0000e+00, 0.0000e+00, 9.8000e-05, 2.3912e-02,\n",
       "        1.2152e-02, 4.8020e-03, 0.0000e+00, 0.0000e+00, 0.0000e+00],\n",
       "       [0.0000e+00, 0.0000e+00, 0.0000e+00, 0.0000e+00, 0.0000e+00,\n",
       "        0.0000e+00, 4.9000e-04, 3.9200e-03, 1.4700e-03, 7.8400e-04],\n",
       "       [0.0000e+00, 0.0000e+00, 0.0000e+00, 0.0000e+00, 0.0000e+00,\n",
       "        0.0000e+00, 0.0000e+00, 0.0000e+00, 0.0000e+00, 0.0000e+00],\n",
       "       [0.0000e+00, 0.0000e+00, 0.0000e+00, 0.0000e+00, 0.0000e+00,\n",
       "        0.0000e+00, 0.0000e+00, 0.0000e+00, 0.0000e+00, 0.0000e+00],\n",
       "       [0.0000e+00, 0.0000e+00, 0.0000e+00, 0.0000e+00, 0.0000e+00,\n",
       "        0.0000e+00, 0.0000e+00, 0.0000e+00, 0.0000e+00, 0.0000e+00],\n",
       "       [0.0000e+00, 0.0000e+00, 0.0000e+00, 0.0000e+00, 0.0000e+00,\n",
       "        0.0000e+00, 0.0000e+00, 0.0000e+00, 0.0000e+00, 0.0000e+00]])"
      ]
     },
     "execution_count": 10,
     "metadata": {},
     "output_type": "execute_result"
    }
   ],
   "source": [
    "# Histogram 2d\n",
    "\n",
    "BIN_RANGE = [(-10,10), (-200,200)]\n",
    "\n",
    "def bin_bunch(bunch, bins=(28,28), range=BIN_RANGE ):\n",
    "  x,y =bunch.T\n",
    "  xedges = range\n",
    "  H, xedges, yedges = np.histogram2d( 1e3*x, -1e4*y, normed=True, bins=bins, range=range )\n",
    " \n",
    "  return H\n",
    "\n",
    "# Binned plot\n",
    "\n",
    "def plot_binned_bunch(bbunch, title=None, range=[(-6,6), (-6,6)]):\n",
    "  \n",
    "  fig = plt.figure()\n",
    "  ax = fig.add_subplot(1, 1, 1)\n",
    "  ax.set_xlabel('z (mm) ')\n",
    "  ax.set_ylabel('delta (1e-4) ')\n",
    "  if title: ax.set_title(title)\n",
    "    \n",
    "  ax.imshow(bbunch.T, extent=(range[0][0], range[0][1], range[1][0], range[1][1]), aspect='auto')\n",
    "  #plt.colorbar()  \n",
    " \n",
    "  return fig\n",
    "binnedbunch0 = bin_bunch(bunch2);\n",
    "\n",
    "# Partial data\n",
    "binnedbunch0[10:20,10:20]\n"
   ]
  },
  {
   "cell_type": "code",
   "execution_count": 11,
   "metadata": {
    "colab": {
     "base_uri": "https://localhost:8080/",
     "height": 294
    },
    "colab_type": "code",
    "executionInfo": {
     "elapsed": 470,
     "status": "ok",
     "timestamp": 1519774959403,
     "user": {
      "displayName": "Daniel Bowring",
      "photoUrl": "//lh4.googleusercontent.com/-KOZA489PPGw/AAAAAAAAAAI/AAAAAAAAA6M/z5T5K3HG8Qk/s50-c-k-no/photo.jpg",
      "userId": "117316732450661309451"
     },
     "user_tz": 0
    },
    "id": "97Zwtr6IIHv3",
    "outputId": "096f7264-fe44-4e53-bf1e-7be560ebd917"
   },
   "outputs": [
    {
     "data": {
      "image/png": "[encoded data removed]",
      "text/plain": [
       "<Figure size 432x288 with 1 Axes>"
      ]
     },
     "metadata": {
      "needs_background": "light"
     },
     "output_type": "display_data"
    }
   ],
   "source": [
    "# Plot of binned bunch\n",
    "plot_binned_bunch(binnedbunch0, range=BIN_RANGE, title='my title');"
   ]
  },
  {
   "cell_type": "code",
   "execution_count": 12,
   "metadata": {
    "colab": {
     "base_uri": "https://localhost:8080/",
     "height": 283
    },
    "colab_type": "code",
    "executionInfo": {
     "elapsed": 444,
     "status": "ok",
     "timestamp": 1519774962547,
     "user": {
      "displayName": "Daniel Bowring",
      "photoUrl": "//lh4.googleusercontent.com/-KOZA489PPGw/AAAAAAAAAAI/AAAAAAAAA6M/z5T5K3HG8Qk/s50-c-k-no/photo.jpg",
      "userId": "117316732450661309451"
     },
     "user_tz": 0
    },
    "id": "s_JtIQg1EJzs",
    "outputId": "65a7a2ee-18ac-4ee1-a9a8-c1ae735cee45"
   },
   "outputs": [
    {
     "data": {
      "image/png": "[encoded data removed]",
      "text/plain": [
       "<Figure size 432x288 with 1 Axes>"
      ]
     },
     "metadata": {
      "needs_background": "light"
     },
     "output_type": "display_data"
    }
   ],
   "source": [
    "# Previous plotting function\n",
    "plot_bunch(bunch2, range=BIN_RANGE);"
   ]
  },
  {
   "cell_type": "code",
   "execution_count": 13,
   "metadata": {
    "colab": {},
    "colab_type": "code",
    "id": "MsC4iruyEKK3"
   },
   "outputs": [],
   "source": [
    "\n",
    "# Make binned bunch (screen) data, with noise\n",
    "def binned_accelerator(phase_deg, noise=0):\n",
    "  bunch0 = init_bunch(100)\n",
    "  bunch1 = linac(bunch0, phi=2*pi*(phase_deg/360))\n",
    "  bunch2 = arc(bunch1, r56 = 20e-2, t566 = 1)\n",
    "  \n",
    "  bbunch = bin_bunch(bunch2) \n",
    "  \n",
    "  if noise > 0:\n",
    "    bbunch = bbunch + np.random.rand( bbunch.shape[0],bbunch.shape[1])*noise\n",
    "  \n",
    "  return bbunch"
   ]
  },
  {
   "cell_type": "code",
   "execution_count": 14,
   "metadata": {
    "colab": {
     "base_uri": "https://localhost:8080/",
     "height": 294
    },
    "colab_type": "code",
    "executionInfo": {
     "elapsed": 366,
     "status": "ok",
     "timestamp": 1519774973316,
     "user": {
      "displayName": "Daniel Bowring",
      "photoUrl": "//lh4.googleusercontent.com/-KOZA489PPGw/AAAAAAAAAAI/AAAAAAAAA6M/z5T5K3HG8Qk/s50-c-k-no/photo.jpg",
      "userId": "117316732450661309451"
     },
     "user_tz": 0
    },
    "id": "9nllQGrnEPlk",
    "outputId": "5c802782-77a1-4513-bbfb-ba33d522ebab"
   },
   "outputs": [
    {
     "data": {
      "image/png": "[encoded data removed]",
      "text/plain": [
       "<Figure size 432x288 with 1 Axes>"
      ]
     },
     "metadata": {
      "needs_background": "light"
     },
     "output_type": "display_data"
    }
   ],
   "source": [
    "def make_data1(): \n",
    "  phase_deg = (np.random.rand() - 0.5)*20 # +/- 10 deg phases\n",
    "  label = phase_deg \n",
    "  data = binned_accelerator(phase_deg, noise=0.002)\n",
    "  return data, label\n",
    "\n",
    "bbunch1, label1 = make_data1();\n",
    "plot_binned_bunch(bbunch1, title = \"phase (deg): \"+str(label1));"
   ]
  },
  {
   "cell_type": "code",
   "execution_count": 20,
   "metadata": {
    "colab": {
     "base_uri": "https://localhost:8080/",
     "height": 34
    },
    "colab_type": "code",
    "executionInfo": {
     "elapsed": 413,
     "status": "ok",
     "timestamp": 1519774977505,
     "user": {
      "displayName": "Daniel Bowring",
      "photoUrl": "//lh4.googleusercontent.com/-KOZA489PPGw/AAAAAAAAAAI/AAAAAAAAA6M/z5T5K3HG8Qk/s50-c-k-no/photo.jpg",
      "userId": "117316732450661309451"
     },
     "user_tz": 0
    },
    "id": "sx7YHcIuERgi",
    "outputId": "16ebd7d5-ea36-491d-9107-8e68909dedf2"
   },
   "outputs": [
    {
     "data": {
      "text/plain": [
       "((80000, 28, 28), (80000,))"
      ]
     },
     "execution_count": 20,
     "metadata": {},
     "output_type": "execute_result"
    }
   ],
   "source": [
    "def make_data(n):\n",
    "  data = np.empty([n, 28,28])\n",
    "  labels = np.empty([n])\n",
    "  for i in range(n):\n",
    "    data[i], labels[i] =  make_data1()\n",
    "  return data, labels\n",
    "x_train, y_train = make_data(80000);\n",
    "x_train.shape, y_train.shape"
   ]
  },
  {
   "cell_type": "code",
   "execution_count": 21,
   "metadata": {
    "colab": {
     "base_uri": "https://localhost:8080/",
     "height": 34
    },
    "colab_type": "code",
    "executionInfo": {
     "elapsed": 317,
     "status": "ok",
     "timestamp": 1519774980040,
     "user": {
      "displayName": "Daniel Bowring",
      "photoUrl": "//lh4.googleusercontent.com/-KOZA489PPGw/AAAAAAAAAAI/AAAAAAAAA6M/z5T5K3HG8Qk/s50-c-k-no/photo.jpg",
      "userId": "117316732450661309451"
     },
     "user_tz": 0
    },
    "id": "N7OjcNd5Ecv2",
    "outputId": "dc2bbbb1-4bf2-4aa1-82a1-20e3c56d00b2"
   },
   "outputs": [
    {
     "data": {
      "text/plain": [
       "(-9.999733933108889, 9.999962294414226)"
      ]
     },
     "execution_count": 21,
     "metadata": {},
     "output_type": "execute_result"
    }
   ],
   "source": [
    "# Check the range of the labels\n",
    "min(y_train), max(y_train)"
   ]
  },
  {
   "cell_type": "code",
   "execution_count": 22,
   "metadata": {
    "colab": {
     "base_uri": "https://localhost:8080/",
     "height": 34
    },
    "colab_type": "code",
    "executionInfo": {
     "elapsed": 86919,
     "status": "ok",
     "timestamp": 1519775068167,
     "user": {
      "displayName": "Daniel Bowring",
      "photoUrl": "//lh4.googleusercontent.com/-KOZA489PPGw/AAAAAAAAAAI/AAAAAAAAA6M/z5T5K3HG8Qk/s50-c-k-no/photo.jpg",
      "userId": "117316732450661309451"
     },
     "user_tz": 0
    },
    "id": "UZ5pMEJqEfCt",
    "outputId": "ddc19155-9af1-4cf9-e653-ddcdd20b819f"
   },
   "outputs": [
    {
     "data": {
      "text/plain": [
       "(60000, 28, 28)"
      ]
     },
     "execution_count": 22,
     "metadata": {},
     "output_type": "execute_result"
    }
   ],
   "source": [
    "# MNIST style dataset\n",
    "n_train, n_val, n_test = 60000, 10000, 10000;\n",
    "x_train0, y_train0 = make_data(n_train);\n",
    "x_test0, y_test0 =  make_data(n_test);\n",
    "x_val0, y_val0 =  make_data(n_val);\n",
    "x_train0.shape"
   ]
  },
  {
   "cell_type": "markdown",
   "metadata": {
    "colab_type": "text",
    "id": "hW5UahmLE0OW"
   },
   "source": [
    "# Exercise: try to predict the phase given an image (array of pixel values) with a Convolutional Neural Network\n"
   ]
  },
  {
   "cell_type": "code",
   "execution_count": 17,
   "metadata": {
    "colab": {},
    "colab_type": "code",
    "id": "BPHeC4zvFGME"
   },
   "outputs": [],
   "source": [
    "# Your code here"
   ]
  },
  {
   "cell_type": "markdown",
   "metadata": {
    "colab_type": "text",
    "id": "O0uRooHSFVtO"
   },
   "source": [
    "# Example solution with Keras (and Tensorflow backend). Try to do better!"
   ]
  },
  {
   "cell_type": "code",
   "execution_count": 18,
   "metadata": {
    "colab": {
     "base_uri": "https://localhost:8080/",
     "height": 34
    },
    "colab_type": "code",
    "executionInfo": {
     "elapsed": 10430,
     "status": "ok",
     "timestamp": 1536102241323,
     "user": {
      "displayName": "Christopher E. Mayes",
      "photoUrl": "https://lh3.googleusercontent.com/a/default-user=s128",
      "userId": "106142582782898777864"
     },
     "user_tz": 420
    },
    "id": "I29yekE6F3N-",
    "outputId": "c3a902e0-89f0-41e7-f2af-b8bbc7a24c46"
   },
   "outputs": [
    {
     "name": "stderr",
     "output_type": "stream",
     "text": [
      "//anaconda/envs/py36/lib/python3.6/site-packages/h5py/__init__.py:34: FutureWarning: Conversion of the second argument of issubdtype from `float` to `np.floating` is deprecated. In future, it will be treated as `np.float64 == np.dtype(float).type`.\n",
      "  from ._conv import register_converters as _register_converters\n",
      "Using TensorFlow backend.\n"
     ]
    }
   ],
   "source": [
    "# https://keras.io/\n",
    "#!pip install -q keras\n",
    "#import keras"
   ]
  },
  {
   "cell_type": "code",
   "execution_count": 24,
   "metadata": {
    "colab": {},
    "colab_type": "code",
    "id": "s3Ipp-cIGDQs"
   },
   "outputs": [],
   "source": [
    "import keras\n",
    "from keras.models import Sequential\n",
    "from keras.layers import Dense, Dropout, Flatten\n",
    "from keras.layers import Conv2D, MaxPooling2D\n",
    "from keras import backend as K\n",
    "\n",
    "batch_size = 128\n",
    "epochs = 5\n",
    "\n",
    "# input image dimensions\n",
    "img_rows, img_cols = 28, 28"
   ]
  },
  {
   "cell_type": "code",
   "execution_count": 25,
   "metadata": {
    "colab": {
     "base_uri": "https://localhost:8080/",
     "height": 69
    },
    "colab_type": "code",
    "executionInfo": {
     "elapsed": 365,
     "status": "ok",
     "timestamp": 1519775147754,
     "user": {
      "displayName": "Daniel Bowring",
      "photoUrl": "//lh4.googleusercontent.com/-KOZA489PPGw/AAAAAAAAAAI/AAAAAAAAA6M/z5T5K3HG8Qk/s50-c-k-no/photo.jpg",
      "userId": "117316732450661309451"
     },
     "user_tz": 0
    },
    "id": "oRMQj50hGNFo",
    "outputId": "7f667f8e-c6db-4729-ca05-d8917df74c9f"
   },
   "outputs": [
    {
     "name": "stdout",
     "output_type": "stream",
     "text": [
      "x_train shape: (60000, 28, 28, 1)\n",
      "60000 train samples\n",
      "10000 test samples\n",
      "10000 val samples\n"
     ]
    }
   ],
   "source": [
    "# Reshape\n",
    "x_train = x_train0.reshape(x_train0.shape[0], img_rows, img_cols, 1)\n",
    "x_test  = x_test0.reshape(x_test0.shape[0], img_rows, img_cols, 1)\n",
    "x_val  = x_val0.reshape(x_val0.shape[0], img_rows, img_cols, 1)\n",
    "input_shape = (img_rows, img_cols, 1)\n",
    "\n",
    "x_train = x_train.astype('float32')\n",
    "x_test = x_test.astype('float32')\n",
    "x_val = x_val.astype('float32')\n",
    "print('x_train shape:', x_train.shape)\n",
    "print(x_train.shape[0], 'train samples')\n",
    "print(x_test.shape[0], 'test samples')\n",
    "print(x_val.shape[0], 'val samples')"
   ]
  },
  {
   "cell_type": "code",
   "execution_count": 27,
   "metadata": {
    "colab": {},
    "colab_type": "code",
    "id": "WIE7nNSqE6tr"
   },
   "outputs": [],
   "source": [
    "# Scale labels from [-10,10] -> [0,1]\n",
    "y_train = (y_train0/10 +1)/2.0\n",
    "y_test  = (y_test0/10  +1)/2.0\n",
    "y_val  = (y_val0/10  +1)/2.0\n",
    "\n",
    "# Make model\n",
    "model2 = Sequential()\n",
    "model2.add(Conv2D(32, kernel_size=(3, 3),\n",
    "                 activation='relu',\n",
    "                 input_shape=input_shape))\n",
    "model2.add(Conv2D(128, (3, 3), activation='relu'))\n",
    "model2.add(MaxPooling2D(pool_size=(2, 2)))\n",
    "model2.add(Dropout(0.25))\n",
    "model2.add(Flatten())\n",
    "model2.add(Dense(128, activation='relu'))\n",
    "model2.add(Dropout(0.5))\n",
    "model2.add(Dense(16))\n",
    "model2.add(Dense(1))\n",
    "model2.compile(loss='mean_squared_error',\n",
    "              optimizer='adam',\n",
    "              metrics=['mae'])"
   ]
  },
  {
   "cell_type": "code",
   "execution_count": 34,
   "metadata": {
    "colab": {
     "base_uri": "https://localhost:8080/",
     "height": 2981
    },
    "colab_type": "code",
    "executionInfo": {
     "elapsed": 12291,
     "status": "error",
     "timestamp": 1519775164850,
     "user": {
      "displayName": "Daniel Bowring",
      "photoUrl": "//lh4.googleusercontent.com/-KOZA489PPGw/AAAAAAAAAAI/AAAAAAAAA6M/z5T5K3HG8Qk/s50-c-k-no/photo.jpg",
      "userId": "117316732450661309451"
     },
     "user_tz": 0
    },
    "id": "Ra1wWhBtFYm4",
    "outputId": "8b4fe2df-166c-4853-f247-a8aa911d325c"
   },
   "outputs": [
    {
     "name": "stdout",
     "output_type": "stream",
     "text": [
      "Train on 60000 samples, validate on 10000 samples\n",
      "Epoch 1/5\n",
      "60000/60000 [==============================] - 401s 7ms/step - loss: 0.0052 - mean_absolute_error: 0.0542 - val_loss: 0.0011 - val_mean_absolute_error: 0.0225\n",
      "Epoch 2/5\n",
      "60000/60000 [==============================] - 400s 7ms/step - loss: 0.0050 - mean_absolute_error: 0.0531 - val_loss: 0.0014 - val_mean_absolute_error: 0.0274\n",
      "Epoch 3/5\n",
      "60000/60000 [==============================] - 401s 7ms/step - loss: 0.0049 - mean_absolute_error: 0.0521 - val_loss: 0.0013 - val_mean_absolute_error: 0.0272\n",
      "Epoch 4/5\n",
      "60000/60000 [==============================] - 405s 7ms/step - loss: 0.0047 - mean_absolute_error: 0.0511 - val_loss: 0.0012 - val_mean_absolute_error: 0.0257\n",
      "Epoch 5/5\n",
      "60000/60000 [==============================] - 406s 7ms/step - loss: 0.0047 - mean_absolute_error: 0.0506 - val_loss: 9.6428e-04 - val_mean_absolute_error: 0.0226\n",
      "Test loss: 0.0009819937878288328\n",
      "Test accuracy: 0.022783473441004752\n"
     ]
    }
   ],
   "source": [
    "n_train = 60000;\n",
    "history2 = model2.fit(x_train[:n_train], y_train[:n_train],\n",
    "          batch_size=2*batch_size,\n",
    "          epochs=5,\n",
    "          verbose=1,\n",
    "          validation_data=(x_val, y_val))\n",
    "score = model2.evaluate(x_test, y_test, verbose=0)\n",
    "print('Test loss:', score[0])\n",
    "print('Test accuracy:', score[1])"
   ]
  },
  {
   "cell_type": "code",
   "execution_count": 39,
   "metadata": {
    "colab": {
     "base_uri": "https://localhost:8080/",
     "height": 183
    },
    "colab_type": "code",
    "executionInfo": {
     "elapsed": 310,
     "status": "error",
     "timestamp": 1519775212333,
     "user": {
      "displayName": "Daniel Bowring",
      "photoUrl": "//lh4.googleusercontent.com/-KOZA489PPGw/AAAAAAAAAAI/AAAAAAAAA6M/z5T5K3HG8Qk/s50-c-k-no/photo.jpg",
      "userId": "117316732450661309451"
     },
     "user_tz": 0
    },
    "id": "YwD06uBqGcj4",
    "outputId": "36cd5c84-223a-457e-d156-21ac58aafd19"
   },
   "outputs": [
    {
     "data": {
      "text/plain": [
       "[<matplotlib.lines.Line2D at 0x7fd3c037fef0>]"
      ]
     },
     "execution_count": 39,
     "metadata": {},
     "output_type": "execute_result"
    },
    {
     "data": {
      "image/png": "[encoded data removed]",
      "text/plain": [
       "<Figure size 432x288 with 1 Axes>"
      ]
     },
     "metadata": {
      "needs_background": "light"
     },
     "output_type": "display_data"
    }
   ],
   "source": [
    "plt.plot(history2.history['loss'])\n",
    "plt.plot(history2.history['val_loss'])"
   ]
  },
  {
   "cell_type": "code",
   "execution_count": 36,
   "metadata": {
    "colab": {},
    "colab_type": "code",
    "id": "yWdft27kHpbz"
   },
   "outputs": [],
   "source": [
    "# Spot check\n",
    "\n",
    "n_sample = 32;\n",
    "x_sample, y_sample = make_data(n_sample);\n",
    "x_sample= x_sample.reshape(x_sample.shape[0], img_rows, img_cols, 1)\n",
    "\n",
    "predictions = model2.predict(x_sample)\n",
    "# Where the error in this set is:\n",
    "iworst = abs(predictions[:,0]*10 - y_sample).argmax()"
   ]
  },
  {
   "cell_type": "code",
   "execution_count": 37,
   "metadata": {
    "colab": {
     "base_uri": "https://localhost:8080/",
     "height": 592
    },
    "colab_type": "code",
    "executionInfo": {
     "elapsed": 567,
     "status": "ok",
     "timestamp": 1519768211983,
     "user": {
      "displayName": "Christopher E. Mayes",
      "photoUrl": "https://lh3.googleusercontent.com/a/default-user=s128",
      "userId": "106142582782898777864"
     },
     "user_tz": 480
    },
    "id": "Wad8dsskHvW6",
    "outputId": "984a2427-664a-439c-c496-cc19591d13e1"
   },
   "outputs": [
    {
     "name": "stdout",
     "output_type": "stream",
     "text": [
      "predict phase (deg):  1.1565089225769043\n",
      "actual phase (deg):  -8.863601292193069\n"
     ]
    },
    {
     "data": {
      "image/png": "[encoded data removed]",
      "text/plain": [
       "<Figure size 432x288 with 1 Axes>"
      ]
     },
     "metadata": {
      "needs_background": "light"
     },
     "output_type": "display_data"
    },
    {
     "data": {
      "image/png": "[encoded data removed]",
      "text/plain": [
       "<Figure size 432x288 with 1 Axes>"
      ]
     },
     "metadata": {
      "needs_background": "light"
     },
     "output_type": "display_data"
    }
   ],
   "source": [
    "ii=iworst\n",
    "phase_predict = predictions[ii,0]*10\n",
    "phase_actual = y_sample[ii]\n",
    "print(\"predict phase (deg): \", phase_predict)\n",
    "print('actual phase (deg): ',  phase_actual)\n",
    "plot_binned_bunch(x_sample[ii].reshape(28,28));\n",
    "my_accelerator(phase_actual);"
   ]
  },
  {
   "cell_type": "code",
   "execution_count": 38,
   "metadata": {
    "colab": {
     "base_uri": "https://localhost:8080/",
     "height": 279
    },
    "colab_type": "code",
    "executionInfo": {
     "elapsed": 1799,
     "status": "ok",
     "timestamp": 1519768213807,
     "user": {
      "displayName": "Christopher E. Mayes",
      "photoUrl": "https://lh3.googleusercontent.com/a/default-user=s128",
      "userId": "106142582782898777864"
     },
     "user_tz": 480
    },
    "id": "Nt6IzjQ4HyA8",
    "outputId": "46fab2cb-1785-41d3-8395-16952b857026"
   },
   "outputs": [
    {
     "data": {
      "image/png": "[encoded data removed]",
      "text/plain": [
       "<Figure size 432x288 with 1 Axes>"
      ]
     },
     "metadata": {
      "needs_background": "light"
     },
     "output_type": "display_data"
    }
   ],
   "source": [
    "# Errors vs actual phase\n",
    "plt.xlabel('actual phase (deg)')\n",
    "plt.ylabel('error in predicted phase (deg)')\n",
    "#x_here = x_train;\n",
    "#y_here = y_train;\n",
    "x_here = x_test;\n",
    "y_here = y_test;\n",
    "plt.hist2d( y_here*20-10,  (y_here- model2.predict(x_here)[:,0])*10, bins=(40,60));"
   ]
  },
  {
   "cell_type": "code",
   "execution_count": null,
   "metadata": {
    "colab": {},
    "colab_type": "code",
    "id": "_3dGhOtpH13R"
   },
   "outputs": [],
   "source": []
  },
  {
   "cell_type": "code",
   "execution_count": null,
   "metadata": {},
   "outputs": [],
   "source": []
  }
 ],
 "metadata": {
  "accelerator": "GPU",
  "colab": {
   "collapsed_sections": [
    "taKyvj3EDKwr"
   ],
   "name": "Exercise: Image recognition using Toy Accelerator Model data.ipynb",
   "provenance": [
    {
     "file_id": "1-WTnR-6G3fgMx8alZ0CCChARt5XwkIMv",
     "timestamp": 1519764940478
    },
    {
     "file_id": "1xsjXxL9ixYWtjqfzhanC9WE_OFBJFj4Q",
     "timestamp": 1519514097112
    },
    {
     "file_id": "1cha4DurVDb_QGNqJSSy8w7rcr0sM0k66",
     "timestamp": 1519428765114
    },
    {
     "file_id": "1PFE58IGTIL3JcdgqA569qqLidSTtRr5V",
     "timestamp": 1518818848674
    }
   ],
   "version": "0.3.2"
  },
  "kernelspec": {
   "display_name": "Python 3",
   "language": "python",
   "name": "py3"
  },
  "language_info": {
   "codemirror_mode": {
    "name": "ipython",
    "version": 3
   },
   "file_extension": ".py",
   "mimetype": "text/x-python",
   "name": "python",
   "nbconvert_exporter": "python",
   "pygments_lexer": "ipython3",
   "version": "3.6.6"
  }
 },
 "nbformat": 4,
 "nbformat_minor": 2
}
